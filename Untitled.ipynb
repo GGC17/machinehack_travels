{
 "cells": [
  {
   "cell_type": "code",
   "execution_count": 1,
   "id": "headed-livestock",
   "metadata": {
    "ExecuteTime": {
     "end_time": "2021-04-03T15:04:09.641885Z",
     "start_time": "2021-04-03T15:04:09.514508Z"
    }
   },
   "outputs": [],
   "source": [
    "import numpy as np"
   ]
  },
  {
   "cell_type": "code",
   "execution_count": null,
   "id": "stopped-ownership",
   "metadata": {},
   "outputs": [],
   "source": []
  }
 ],
 "metadata": {
  "kernelspec": {
   "display_name": "Python 3",
   "language": "python",
   "name": "python3"
  },
  "language_info": {
   "codemirror_mode": {
    "name": "ipython",
    "version": 3
   },
   "file_extension": ".py",
   "mimetype": "text/x-python",
   "name": "python",
   "nbconvert_exporter": "python",
   "pygments_lexer": "ipython3",
   "version": "3.7.2"
  }
 },
 "nbformat": 4,
 "nbformat_minor": 5
}
